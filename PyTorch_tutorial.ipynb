{
  "nbformat": 4,
  "nbformat_minor": 0,
  "metadata": {
    "colab": {
      "provenance": [],
      "authorship_tag": "ABX9TyO+eIYik+vRzxd7DftpJaMZ",
      "include_colab_link": true
    },
    "kernelspec": {
      "name": "python3",
      "display_name": "Python 3"
    },
    "language_info": {
      "name": "python"
    }
  },
  "cells": [
    {
      "cell_type": "markdown",
      "metadata": {
        "id": "view-in-github",
        "colab_type": "text"
      },
      "source": [
        "<a href=\"https://colab.research.google.com/github/Arpitsinghvampire/PyTorch_codes/blob/main/PyTorch_tutorial.ipynb\" target=\"_parent\"><img src=\"https://colab.research.google.com/assets/colab-badge.svg\" alt=\"Open In Colab\"/></a>"
      ]
    },
    {
      "cell_type": "code",
      "execution_count": null,
      "metadata": {
        "colab": {
          "base_uri": "https://localhost:8080/",
          "height": 35
        },
        "id": "aEvrSsIIq4Kt",
        "outputId": "a8dbbcbd-c33e-496e-9a57-6825aa01c56d"
      },
      "outputs": [
        {
          "output_type": "execute_result",
          "data": {
            "text/plain": [
              "'2.6.0+cu124'"
            ],
            "application/vnd.google.colaboratory.intrinsic+json": {
              "type": "string"
            }
          },
          "metadata": {},
          "execution_count": 47
        }
      ],
      "source": [
        "import torch\n",
        "torch.__version__\n"
      ]
    },
    {
      "cell_type": "code",
      "source": [
        "#now lets create a torch tensor\n",
        "scalar = torch.tensor(7)\n",
        "\n",
        "print(scalar)\n",
        "\n",
        "#now if we want to extract the number from tensor\n",
        "print(scalar.item()) # turn the torch.Tensor to Python integer\n",
        "\n"
      ],
      "metadata": {
        "colab": {
          "base_uri": "https://localhost:8080/"
        },
        "id": "j8TJmJRIrDbj",
        "outputId": "cb6b234c-bb16-4b3a-a700-c3dfa012bca5"
      },
      "execution_count": null,
      "outputs": [
        {
          "output_type": "stream",
          "name": "stdout",
          "text": [
            "tensor(7)\n",
            "7\n"
          ]
        }
      ]
    },
    {
      "cell_type": "code",
      "source": [
        "#vector\n",
        "vector = torch.tensor([7,7]) # the tensor is 7,7\n",
        "\n",
        "vector\n",
        "#lets check the dimension of the vector\n",
        "print(vector.ndim)\n",
        "print(vector.shape)\n"
      ],
      "metadata": {
        "colab": {
          "base_uri": "https://localhost:8080/"
        },
        "id": "5A_1neY7rDen",
        "outputId": "deaea954-ad78-4fe5-de9f-d081427cca04"
      },
      "execution_count": null,
      "outputs": [
        {
          "output_type": "stream",
          "name": "stdout",
          "text": [
            "1\n",
            "torch.Size([2])\n"
          ]
        }
      ]
    },
    {
      "cell_type": "code",
      "source": [
        "#lets now create a matrix\n",
        "matrix = torch.tensor([[7,8],[9,10]])\n",
        "\n",
        "matrix\n",
        "\n",
        "print(matrix.ndim)"
      ],
      "metadata": {
        "colab": {
          "base_uri": "https://localhost:8080/"
        },
        "id": "fXSUn_ukrDk7",
        "outputId": "2653abfe-c1d3-43e2-fab5-fd0a3e6d0597"
      },
      "execution_count": null,
      "outputs": [
        {
          "output_type": "stream",
          "name": "stdout",
          "text": [
            "2\n"
          ]
        }
      ]
    },
    {
      "cell_type": "code",
      "source": [
        "Tensor = torch.tensor([[[1,2,3],[4,5,6],[7,8,9]]])\n",
        "\n",
        "Tensor\n",
        "\n",
        "print(Tensor.ndim)\n",
        "print(Tensor.shape)\n"
      ],
      "metadata": {
        "colab": {
          "base_uri": "https://localhost:8080/"
        },
        "id": "l4SpqBbtrDoR",
        "outputId": "72ad46d2-3df5-48d7-c243-050f2e38d2dc"
      },
      "execution_count": null,
      "outputs": [
        {
          "output_type": "stream",
          "name": "stdout",
          "text": [
            "3\n",
            "torch.Size([1, 3, 3])\n"
          ]
        }
      ]
    },
    {
      "cell_type": "code",
      "source": [
        "#lets create the random set of tensors\n",
        "random_tensor = torch.rand(size=(3,4,3))\n",
        "\n",
        "random_tensor\n",
        "print(random_tensor.shape)\n",
        "print(random_tensor.size())\n",
        "print(random_tensor.ndim)\n"
      ],
      "metadata": {
        "colab": {
          "base_uri": "https://localhost:8080/"
        },
        "id": "BunoJQFcrDrY",
        "outputId": "d4ae1462-df04-4ace-bb83-e62f27e236ae"
      },
      "execution_count": null,
      "outputs": [
        {
          "output_type": "stream",
          "name": "stdout",
          "text": [
            "torch.Size([3, 4, 3])\n",
            "torch.Size([3, 4, 3])\n",
            "3\n"
          ]
        }
      ]
    },
    {
      "cell_type": "code",
      "source": [
        "#now lets create the set of zeros and ones\n",
        "zeros = torch.zeros(size =(3,4))\n",
        "ones = torch.ones(size = (3,4))\n",
        "\n",
        "print(zeros.shape)\n",
        "print(zeros.ndim)\n",
        "print(zeros.size())\n",
        "print(zeros.dtype)\n",
        "\n",
        "print(ones.shape)\n",
        "print(ones.ndim)\n",
        "print(ones.size())\n",
        "print(ones.dtype)"
      ],
      "metadata": {
        "colab": {
          "base_uri": "https://localhost:8080/"
        },
        "id": "mN3j5hfhrDx_",
        "outputId": "917b7454-b104-4aae-f017-703b9440ad29"
      },
      "execution_count": null,
      "outputs": [
        {
          "output_type": "stream",
          "name": "stdout",
          "text": [
            "torch.Size([3, 4])\n",
            "2\n",
            "torch.Size([3, 4])\n",
            "torch.float32\n",
            "torch.Size([3, 4])\n",
            "2\n",
            "torch.Size([3, 4])\n",
            "torch.float32\n"
          ]
        }
      ]
    },
    {
      "cell_type": "code",
      "source": [
        "zero_to_ten_tensor = torch.arange(0,10,1)#start step , stop set and step set\n",
        "\n",
        "zero_to_ten_tensor"
      ],
      "metadata": {
        "colab": {
          "base_uri": "https://localhost:8080/"
        },
        "id": "KPNS31PWrD1j",
        "outputId": "5a597ef8-bb74-4ee6-b2db-04a15290ee9c"
      },
      "execution_count": null,
      "outputs": [
        {
          "output_type": "execute_result",
          "data": {
            "text/plain": [
              "tensor([0, 1, 2, 3, 4, 5, 6, 7, 8, 9])"
            ]
          },
          "metadata": {},
          "execution_count": 24
        }
      ]
    },
    {
      "cell_type": "code",
      "source": [
        "#sometimes we may want one tensor to be a certain type with same shape as another tensor\n",
        "ten_zeros = torch.zeros_like(input = zero_to_ten_tensor)\n",
        "\n",
        "ten_zeros\n",
        "\n",
        "ten_ones = torch.ones_like(input = zero_to_ten_tensor)\n",
        "ten_ones"
      ],
      "metadata": {
        "colab": {
          "base_uri": "https://localhost:8080/"
        },
        "id": "rtVZBpVgbh7g",
        "outputId": "0afdbe53-2e4a-4ea2-baad-bc6d07012540"
      },
      "execution_count": null,
      "outputs": [
        {
          "output_type": "execute_result",
          "data": {
            "text/plain": [
              "tensor([1, 1, 1, 1, 1, 1, 1, 1, 1, 1])"
            ]
          },
          "metadata": {},
          "execution_count": 28
        }
      ]
    },
    {
      "cell_type": "code",
      "source": [
        "float_32_tensor = torch.tensor([3,6,9],dtype = torch.float32,device = None,requires_grad = False)\n",
        "\n",
        "print(float_32_tensor)\n",
        "print(float_32_tensor.dtype)"
      ],
      "metadata": {
        "colab": {
          "base_uri": "https://localhost:8080/"
        },
        "id": "zOjL_Pcibh-U",
        "outputId": "cd328f0e-bee9-4b16-8e36-15276ccbe352"
      },
      "execution_count": null,
      "outputs": [
        {
          "output_type": "stream",
          "name": "stdout",
          "text": [
            "tensor([3., 6., 9.])\n",
            "torch.float32\n"
          ]
        }
      ]
    },
    {
      "cell_type": "code",
      "source": [
        "float_16_tensor = torch.tensor([3,6,9],dtype = torch.float16,device = None,requires_grad = False)\n",
        "print(float_16_tensor+float_32_tensor)#this should give an error\n",
        "\n",
        "vector = float_16_tensor+float_32_tensor\n",
        "\n",
        "print(vector.dtype)\n",
        "print(vector)\n",
        "print(vector.device)"
      ],
      "metadata": {
        "colab": {
          "base_uri": "https://localhost:8080/"
        },
        "id": "QgCtdvtXbiBL",
        "outputId": "6ebaa2cb-790e-4a99-e7d4-fc8d8fee95f6"
      },
      "execution_count": null,
      "outputs": [
        {
          "output_type": "stream",
          "name": "stdout",
          "text": [
            "tensor([ 6., 12., 18.])\n",
            "torch.float32\n",
            "tensor([ 6., 12., 18.])\n",
            "cpu\n"
          ]
        }
      ]
    },
    {
      "cell_type": "code",
      "source": [
        "#now lets start by doing the operations on the tensors , the normal addition , subtraction , multiplicationa and division\n",
        "tensor = torch.rand(size = (3,1))\n",
        "print(tensor)\n",
        "print(tensor.shape)\n",
        "print(tensor.size())\n",
        "print(tensor.ndim)\n",
        "\n",
        "print(tensor+10)\n",
        "print(tensor*10)\n",
        "print(tensor-10)\n",
        "print(tensor/10)\n"
      ],
      "metadata": {
        "colab": {
          "base_uri": "https://localhost:8080/"
        },
        "id": "oHrg2gssbiDy",
        "outputId": "83fc75b0-9a3d-4539-8a12-08046701aebb"
      },
      "execution_count": null,
      "outputs": [
        {
          "output_type": "stream",
          "name": "stdout",
          "text": [
            "tensor([[0.9446],\n",
            "        [0.8891],\n",
            "        [0.8970]])\n",
            "torch.Size([3, 1])\n",
            "torch.Size([3, 1])\n",
            "2\n",
            "tensor([[10.9446],\n",
            "        [10.8891],\n",
            "        [10.8969]])\n",
            "tensor([[9.4463],\n",
            "        [8.8906],\n",
            "        [8.9695]])\n",
            "tensor([[-9.0554],\n",
            "        [-9.1109],\n",
            "        [-9.1031]])\n",
            "tensor([[0.0945],\n",
            "        [0.0889],\n",
            "        [0.0897]])\n"
          ]
        }
      ]
    },
    {
      "cell_type": "code",
      "source": [
        "#in order to do the above operations we can also do the following\n",
        "Torch_tensor = torch.tensor([1,2,3], dtype = torch.float32)\n",
        "print(torch.mul(Torch_tensor,10)) #multipliesthe torch tensor by 10 to each element\n",
        "print(torch.add(Torch_tensor,10))#adds 10 to each element in tensor\n",
        "print(torch.sub(Torch_tensor,10))#subtracts 10 from each element)\n",
        "print(torch.div(Torch_tensor,10))#divides each element of the torch tensor by 10\n"
      ],
      "metadata": {
        "colab": {
          "base_uri": "https://localhost:8080/"
        },
        "id": "83L3xqHvbiGI",
        "outputId": "a33f28f2-a52c-4f2d-a59f-7f26db2409c7"
      },
      "execution_count": null,
      "outputs": [
        {
          "output_type": "stream",
          "name": "stdout",
          "text": [
            "tensor([10., 20., 30.])\n",
            "tensor([11., 12., 13.])\n",
            "tensor([-9., -8., -7.])\n",
            "tensor([0.1000, 0.2000, 0.3000])\n"
          ]
        }
      ]
    },
    {
      "cell_type": "code",
      "source": [
        "print(Torch_tensor*Torch_tensor)\n",
        "print(torch.matmul(Torch_tensor,Torch_tensor.T))\n",
        "\n",
        "#there is a difference between the element wise multiplication and the matrix multiplication\n",
        "\n",
        "#in element wise multiplication the matrices are multiplied element wise , in matrix multiplication we have the standard multiplication\n",
        "\n"
      ],
      "metadata": {
        "colab": {
          "base_uri": "https://localhost:8080/"
        },
        "id": "d1OzeO6KbiIe",
        "outputId": "911adbff-c7b0-497f-9ba5-978c0583de03"
      },
      "execution_count": null,
      "outputs": [
        {
          "output_type": "stream",
          "name": "stdout",
          "text": [
            "tensor([1., 4., 9.])\n",
            "tensor(14.)\n"
          ]
        }
      ]
    },
    {
      "cell_type": "code",
      "source": [
        "#element wise multiplication\n",
        "print(Torch_tensor*Torch_tensor)\n",
        "\n",
        "#matrix multiplication\n",
        "print(torch.matmul(Torch_tensor,Torch_tensor.T))#since the dimensions must match for a valid matrix multiplication\n",
        "\n",
        "print(Torch_tensor@Torch_tensor.T) #take the transpose of the second matrix"
      ],
      "metadata": {
        "colab": {
          "base_uri": "https://localhost:8080/"
        },
        "id": "hKj9SNb6biLF",
        "outputId": "87515587-149f-4085-c781-ea8b9c91d12e"
      },
      "execution_count": null,
      "outputs": [
        {
          "output_type": "stream",
          "name": "stdout",
          "text": [
            "tensor([1., 4., 9.])\n",
            "tensor(14.)\n",
            "tensor(14.)\n"
          ]
        }
      ]
    },
    {
      "cell_type": "code",
      "source": [
        "#in this exercise we start with the oprations for min. and max and other stuff\n",
        "#lets start with an array\n",
        "\n",
        "x = torch.arange(0,100) #by default the step size is 1\n",
        "\n",
        "print(x.min().item())\n",
        "print(x.max().item())\n",
        "print(x.sum().item())\n",
        "print(x.type(torch.float32).mean().item())\n"
      ],
      "metadata": {
        "id": "N-zPi6MpmG6K",
        "colab": {
          "base_uri": "https://localhost:8080/"
        },
        "outputId": "b92d25f6-1f9f-4786-a479-9ccdd643122b"
      },
      "execution_count": null,
      "outputs": [
        {
          "output_type": "stream",
          "name": "stdout",
          "text": [
            "0\n",
            "99\n",
            "4950\n",
            "49.5\n"
          ]
        }
      ]
    },
    {
      "cell_type": "code",
      "source": [
        "#now we can do the same with the torch function\n",
        "print(torch.min(x).item())\n",
        "print(torch.max(x).item())\n",
        "print(torch.sum(x).item())\n",
        "print(torch.mean(x.type(torch.float32)).item())"
      ],
      "metadata": {
        "colab": {
          "base_uri": "https://localhost:8080/"
        },
        "id": "JJxoBvPq6Oq9",
        "outputId": "c9e11b12-244a-4658-9209-d3fe3e12eda2"
      },
      "execution_count": null,
      "outputs": [
        {
          "output_type": "stream",
          "name": "stdout",
          "text": [
            "0\n",
            "99\n",
            "4950\n",
            "49.5\n"
          ]
        }
      ]
    },
    {
      "cell_type": "code",
      "source": [
        "print(x)\n",
        "\n",
        "print(f\"THE POSITION WHERE THE MINIMU. OCCURS IS {torch.argmin(x)}\")\n",
        "print(f\"THE POSITION WHERE THE MAXIMUM OCCURS IS {torch.argmax(x)}\")\n",
        "\n"
      ],
      "metadata": {
        "colab": {
          "base_uri": "https://localhost:8080/"
        },
        "id": "oS-6D-D06OxI",
        "outputId": "1e9f8949-e240-4c34-a6bc-656b1c534003"
      },
      "execution_count": null,
      "outputs": [
        {
          "output_type": "stream",
          "name": "stdout",
          "text": [
            "tensor([ 0,  1,  2,  3,  4,  5,  6,  7,  8,  9, 10, 11, 12, 13, 14, 15, 16, 17,\n",
            "        18, 19, 20, 21, 22, 23, 24, 25, 26, 27, 28, 29, 30, 31, 32, 33, 34, 35,\n",
            "        36, 37, 38, 39, 40, 41, 42, 43, 44, 45, 46, 47, 48, 49, 50, 51, 52, 53,\n",
            "        54, 55, 56, 57, 58, 59, 60, 61, 62, 63, 64, 65, 66, 67, 68, 69, 70, 71,\n",
            "        72, 73, 74, 75, 76, 77, 78, 79, 80, 81, 82, 83, 84, 85, 86, 87, 88, 89,\n",
            "        90, 91, 92, 93, 94, 95, 96, 97, 98, 99])\n",
            "THE POSITION WHERE THE MINIMU. OCCURS IS 0\n",
            "THE POSITION WHERE THE MAXIMUM OCCURS IS 99\n"
          ]
        }
      ]
    },
    {
      "cell_type": "code",
      "source": [
        "import torch\n",
        "\n",
        "x=torch.arange(1,8)\n",
        "print(x)\n",
        "print(x.shape)\n",
        "\n",
        "x_reshaped = x.reshape(1,7)\n",
        "print(x_reshaped)\n",
        "print(x_reshaped.shape)\n",
        "\n",
        "z = x.view(7,1)\n",
        "print(z)\n",
        "print(z.shape)"
      ],
      "metadata": {
        "colab": {
          "base_uri": "https://localhost:8080/"
        },
        "id": "umy5aH5e6O1j",
        "outputId": "9e0c2075-bd7a-4e43-f716-4f53263098ef"
      },
      "execution_count": null,
      "outputs": [
        {
          "output_type": "stream",
          "name": "stdout",
          "text": [
            "tensor([1, 2, 3, 4, 5, 6, 7])\n",
            "torch.Size([7])\n",
            "tensor([[1, 2, 3, 4, 5, 6, 7]])\n",
            "torch.Size([1, 7])\n",
            "tensor([[1],\n",
            "        [2],\n",
            "        [3],\n",
            "        [4],\n",
            "        [5],\n",
            "        [6],\n",
            "        [7]])\n",
            "torch.Size([7, 1])\n"
          ]
        }
      ]
    },
    {
      "cell_type": "code",
      "source": [
        "#now lets stack the value\n",
        "x_stacked = torch.stack([x,x,x,x,x],dim = 0)\n",
        "x_stacked_horizontally = torch.stack([x,x,x,x,x],dim =1)\n",
        "\n",
        "print(x_stacked)\n",
        "print(x_stacked_horizontally)"
      ],
      "metadata": {
        "colab": {
          "base_uri": "https://localhost:8080/"
        },
        "id": "jNr9fsdB6O6P",
        "outputId": "4ef30644-2d75-404c-f82a-64f79560e113"
      },
      "execution_count": null,
      "outputs": [
        {
          "output_type": "stream",
          "name": "stdout",
          "text": [
            "tensor([[1, 2, 3, 4, 5, 6, 7],\n",
            "        [1, 2, 3, 4, 5, 6, 7],\n",
            "        [1, 2, 3, 4, 5, 6, 7],\n",
            "        [1, 2, 3, 4, 5, 6, 7],\n",
            "        [1, 2, 3, 4, 5, 6, 7]])\n",
            "tensor([[1, 1, 1, 1, 1],\n",
            "        [2, 2, 2, 2, 2],\n",
            "        [3, 3, 3, 3, 3],\n",
            "        [4, 4, 4, 4, 4],\n",
            "        [5, 5, 5, 5, 5],\n",
            "        [6, 6, 6, 6, 6],\n",
            "        [7, 7, 7, 7, 7]])\n"
          ]
        }
      ]
    },
    {
      "cell_type": "code",
      "source": [
        "print(z.shape)\n",
        "z= z.squeeze()\n",
        "print(z.shape)\n",
        "\n",
        "z=z.unsqueeze(dim = 0) #add the 1 dimension at the start\n",
        "print(z.shape)\n"
      ],
      "metadata": {
        "colab": {
          "base_uri": "https://localhost:8080/"
        },
        "id": "mpJpjiuT6O-I",
        "outputId": "514baa29-4175-4af0-e3b3-8f1efc86089b"
      },
      "execution_count": null,
      "outputs": [
        {
          "output_type": "stream",
          "name": "stdout",
          "text": [
            "torch.Size([7])\n",
            "torch.Size([7])\n",
            "torch.Size([1, 7])\n"
          ]
        }
      ]
    },
    {
      "cell_type": "code",
      "source": [
        "#now we try to interchange the tensor and the numpy\n",
        "import  torch\n",
        "import numpy as np\n",
        "\n",
        "z = np.arange(1,8)\n",
        "#now we try to typecast them into tensors\n",
        "z=torch.from_numpy(z)\n",
        "z_numpy = z.numpy()"
      ],
      "metadata": {
        "id": "yc0lSk-46PBR"
      },
      "execution_count": null,
      "outputs": []
    },
    {
      "cell_type": "code",
      "source": [
        "import torch\n",
        "import random\n",
        "\n",
        "RANDOM_SEED = 42\n",
        "torch.manual_seed(RANDOM_SEED)\n",
        "\n",
        "\n",
        "random_tensor_A = torch.rand(3,4)\n",
        "torch.manual_seed(RANDOM_SEED)\n",
        "random_tensor_B = torch.rand(3,4)\n",
        "\n",
        "random_tensor_A == random_tensor_B\n"
      ],
      "metadata": {
        "colab": {
          "base_uri": "https://localhost:8080/"
        },
        "id": "jdGBZiZpA29y",
        "outputId": "ff23dd2d-e3e2-4b7d-b30f-3b16638c0e3d"
      },
      "execution_count": null,
      "outputs": [
        {
          "output_type": "execute_result",
          "data": {
            "text/plain": [
              "tensor([[True, True, True, True],\n",
              "        [True, True, True, True],\n",
              "        [True, True, True, True]])"
            ]
          },
          "metadata": {},
          "execution_count": 71
        }
      ]
    },
    {
      "cell_type": "code",
      "source": [
        "#NOW HERE WE NEED TO GET THE PYTORCH TO RUN ON. THE GPU\n",
        "import torch\n",
        "\n",
        "#ow lets see whether the cuda is available or not\n",
        "torch.cuda.is_available()\n",
        "torch.cuda.device_count()"
      ],
      "metadata": {
        "colab": {
          "base_uri": "https://localhost:8080/"
        },
        "id": "Epd66-RTA3Bq",
        "outputId": "2102394f-7404-4f83-8741-d3dd31a903e6"
      },
      "execution_count": null,
      "outputs": [
        {
          "output_type": "execute_result",
          "data": {
            "text/plain": [
              "0"
            ]
          },
          "metadata": {},
          "execution_count": 75
        }
      ]
    },
    {
      "cell_type": "code",
      "source": [],
      "metadata": {
        "id": "EYeHwW_SA3ER"
      },
      "execution_count": null,
      "outputs": []
    },
    {
      "cell_type": "code",
      "source": [],
      "metadata": {
        "id": "Ix1Ze8PlA3HI"
      },
      "execution_count": null,
      "outputs": []
    },
    {
      "cell_type": "code",
      "source": [],
      "metadata": {
        "id": "h81d60AHA3Je"
      },
      "execution_count": null,
      "outputs": []
    },
    {
      "cell_type": "code",
      "source": [],
      "metadata": {
        "id": "qNN_M_h3A3MX"
      },
      "execution_count": null,
      "outputs": []
    },
    {
      "cell_type": "code",
      "source": [],
      "metadata": {
        "id": "krClDhupA3Os"
      },
      "execution_count": null,
      "outputs": []
    },
    {
      "cell_type": "code",
      "source": [],
      "metadata": {
        "id": "9MJniYOLA3UK"
      },
      "execution_count": null,
      "outputs": []
    },
    {
      "cell_type": "code",
      "source": [],
      "metadata": {
        "id": "ac_PL0KfA3Wx"
      },
      "execution_count": null,
      "outputs": []
    },
    {
      "cell_type": "code",
      "source": [],
      "metadata": {
        "id": "Kjy3MD2MA3aJ"
      },
      "execution_count": null,
      "outputs": []
    },
    {
      "cell_type": "code",
      "source": [],
      "metadata": {
        "id": "YMoIXyMrA3dA"
      },
      "execution_count": null,
      "outputs": []
    },
    {
      "cell_type": "code",
      "source": [],
      "metadata": {
        "id": "rd6VrcHVA3fn"
      },
      "execution_count": null,
      "outputs": []
    }
  ]
}